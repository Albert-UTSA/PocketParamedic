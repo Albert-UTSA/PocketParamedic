{
 "cells": [
  {
   "cell_type": "code",
   "execution_count": null,
   "id": "97a17a40-078a-4708-90ae-89f7b3ec854f",
   "metadata": {},
   "outputs": [],
   "source": [
    "import cv2\n",
    "import numpy as np\n",
    "from pykinect2 import PyKinectV2\n",
    "from pykinect2 import PyKinectRuntime\n",
    "\n",
    "# Initialize Kinect for color data\n",
    "kinect = PyKinectRuntime.PyKinectRuntime(PyKinectV2.FrameSourceTypes_Color)\n",
    "\n",
    "try:\n",
    "    image_count = 0\n",
    "    while image_count < 5:\n",
    "        # Check for a new color frame\n",
    "        if kinect.has_new_color_frame():\n",
    "            color_frame = kinect.get_last_color_frame()\n",
    "            color_image = color_frame.reshape((kinect.color_frame_desc.Height, kinect.color_frame_desc.Width, 4))\n",
    "            color_image = cv2.cvtColor(color_image, cv2.COLOR_BGRA2RGB)\n",
    "\n",
    "            # Manually swap red and blue channels\n",
    "            color_image[:, :, [0, 2]] = color_image[:, :, [2, 0]]\n",
    "\n",
    "            # Apply gamma correction to adjust brightness\n",
    "            gamma = 0.7  # Adjust gamma value as needed (0.5 to 2.0)\n",
    "            color_image_corrected = np.power(color_image / 255.0, gamma) * 255.0\n",
    "            color_image_corrected = np.clip(color_image_corrected, 0, 255).astype(np.uint8)\n",
    "\n",
    "            # Apply histogram equalization to adjust contrast\n",
    "            color_image_equalized = cv2.cvtColor(color_image_corrected, cv2.COLOR_RGB2LAB)\n",
    "            color_image_equalized[:, :, 0] = cv2.equalizeHist(color_image_equalized[:, :, 0])\n",
    "            color_image_equalized = cv2.cvtColor(color_image_equalized, cv2.COLOR_LAB2RGB)\n",
    "\n",
    "            # Save the color image\n",
    "            image_filename = f\"C:\\\\Users\\\\Anti\\\\Documents\\\\AI_ML_CLASS\\\\FINAL_TEST1\\\\KINECT\\\\color_image_{image_count}.jpg\"\n",
    "            cv2.imwrite(image_filename, color_image_equalized)\n",
    "            print(f\"Image {image_count + 1} saved.\")\n",
    "\n",
    "            # Increment the image count\n",
    "            image_count += 1\n",
    "\n",
    "except KeyboardInterrupt:\n",
    "    print(\"Stream stopped.\")\n",
    "\n",
    "# Clean up\n",
    "kinect.close()\n"
   ]
  }
 ],
 "metadata": {
  "kernelspec": {
   "display_name": "Python 3 (ipykernel)",
   "language": "python",
   "name": "python3"
  },
  "language_info": {
   "codemirror_mode": {
    "name": "ipython",
    "version": 3
   },
   "file_extension": ".py",
   "mimetype": "text/x-python",
   "name": "python",
   "nbconvert_exporter": "python",
   "pygments_lexer": "ipython3",
   "version": "3.12.3"
  }
 },
 "nbformat": 4,
 "nbformat_minor": 5
}
